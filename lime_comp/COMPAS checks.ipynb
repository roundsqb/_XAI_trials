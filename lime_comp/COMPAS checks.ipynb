{
 "cells": [
  {
   "cell_type": "code",
   "execution_count": 2,
   "metadata": {},
   "outputs": [],
   "source": [
    "import pandas as pd\n",
    "import numpy as np\n",
    "import keras\n",
    "import sklearn.ensemble\n",
    "from L3Xutils import Sample_Concrete"
   ]
  },
  {
   "cell_type": "code",
   "execution_count": 3,
   "metadata": {},
   "outputs": [],
   "source": [
    "scores = np.load('data/scores.npy')"
   ]
  },
  {
   "cell_type": "code",
   "execution_count": 4,
   "metadata": {},
   "outputs": [],
   "source": [
    "dataframe = pd.read_csv('data/compas_combined.csv')\n",
    "labels = dataframe['score_factor'].get_values().astype('float32')\n",
    "data = dataframe.drop(columns = ['score_factor', 'decile_score']).get_values().astype('float32')\n",
    "\n",
    "train_x = data[:4500,:]\n",
    "train_y = labels[:4500]\n",
    "test_x = data[4500:6000,:]\n",
    "test_y = labels[4500:6000]"
   ]
  },
  {
   "cell_type": "code",
   "execution_count": 17,
   "metadata": {},
   "outputs": [],
   "source": [
    "def explainer(i):\n",
    "    score = scores[i]\n",
    "    features = test_x[i]\n",
    "    target = test_y[i]\n",
    "    \n",
    "    target_dict = {0.0: 'Low', 1.0: 'Medium/High'}\n",
    "    \n",
    "    present_feature_scores = np.array([s if f > 0. else -5000. for s, f in zip(score, features) ])\n",
    "    indexes = np.flip(np.argsort(present_feature_scores)[-3::])\n",
    "    \n",
    "    cols = dataframe.drop(columns = ['score_factor', 'decile_score']).columns.values\n",
    "    \n",
    "    print('COMPAS predicted individual {} risk.'.format(target_dict[target]))\n",
    "    print('L2X estimates this is due to {}, {}, and {}.'.format(cols[indexes[0]],cols[indexes[1]],cols[indexes[2]]))\n",
    "    \n",
    "    if 1 in indexes:\n",
    "        print('Number_of_Priors = {}'.format(int(features[1])))"
   ]
  },
  {
   "cell_type": "code",
   "execution_count": 18,
   "metadata": {},
   "outputs": [
    {
     "name": "stdout",
     "output_type": "stream",
     "text": [
      "COMPAS predicted individual Medium/High risk.\n",
      "L2X estimates this is due to Number_of_Priors, Two_yr_Recidivism, and African_American.\n",
      "Number_of_Priors = 6\n"
     ]
    }
   ],
   "source": [
    "explainer(1)"
   ]
  },
  {
   "cell_type": "code",
   "execution_count": null,
   "metadata": {},
   "outputs": [],
   "source": []
  }
 ],
 "metadata": {
  "kernelspec": {
   "display_name": "Python 3",
   "language": "python",
   "name": "python3"
  },
  "language_info": {
   "codemirror_mode": {
    "name": "ipython",
    "version": 3
   },
   "file_extension": ".py",
   "mimetype": "text/x-python",
   "name": "python",
   "nbconvert_exporter": "python",
   "pygments_lexer": "ipython3",
   "version": "3.6.6"
  }
 },
 "nbformat": 4,
 "nbformat_minor": 2
}
