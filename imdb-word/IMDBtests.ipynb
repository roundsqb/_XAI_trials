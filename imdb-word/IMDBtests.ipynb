{
 "cells": [
  {
   "cell_type": "code",
   "execution_count": 4,
   "metadata": {},
   "outputs": [
    {
     "name": "stderr",
     "output_type": "stream",
     "text": [
      "Using TensorFlow backend.\n",
      "/Users/matt_rounds/miniconda2/envs/XA3/lib/python3.6/importlib/_bootstrap.py:219: RuntimeWarning: numpy.dtype size changed, may indicate binary incompatibility. Expected 96, got 88\n",
      "  return f(*args, **kwds)\n",
      "/Users/matt_rounds/miniconda2/envs/XA3/lib/python3.6/importlib/_bootstrap.py:219: RuntimeWarning: numpy.dtype size changed, may indicate binary incompatibility. Expected 96, got 88\n",
      "  return f(*args, **kwds)\n"
     ]
    }
   ],
   "source": [
    "import sys\n",
    "import os\n",
    "import urllib.request, urllib.error, urllib.parse  \n",
    "import tarfile\n",
    "import zipfile \n",
    "import numpy as np\n",
    "try:\n",
    "\timport cPickle as pickle\n",
    "except:\n",
    "\timport pickle\n",
    "import os  \n",
    "from explain import create_original_model"
   ]
  },
  {
   "cell_type": "code",
   "execution_count": 5,
   "metadata": {},
   "outputs": [],
   "source": [
    "import scipy.stats"
   ]
  },
  {
   "cell_type": "code",
   "execution_count": 6,
   "metadata": {},
   "outputs": [],
   "source": [
    "x_val_selected = np.load('data/x_val-L2X.npy')\n",
    "pred_val = np.load('data/pred_val.npy')"
   ]
  },
  {
   "cell_type": "code",
   "execution_count": 7,
   "metadata": {},
   "outputs": [],
   "source": [
    "model = create_original_model()"
   ]
  },
  {
   "cell_type": "code",
   "execution_count": 22,
   "metadata": {},
   "outputs": [
    {
     "data": {
      "text/plain": [
       "[<tf.Variable 'embedding_1/embeddings:0' shape=(5000, 50) dtype=float32_ref>,\n",
       " <tf.Variable 'conv1d_1/kernel:0' shape=(3, 50, 250) dtype=float32_ref>,\n",
       " <tf.Variable 'conv1d_1/bias:0' shape=(250,) dtype=float32_ref>,\n",
       " <tf.Variable 'dense_1/kernel:0' shape=(250, 250) dtype=float32_ref>,\n",
       " <tf.Variable 'dense_1/bias:0' shape=(250,) dtype=float32_ref>,\n",
       " <tf.Variable 'dense_2/kernel:0' shape=(250, 2) dtype=float32_ref>,\n",
       " <tf.Variable 'dense_2/bias:0' shape=(2,) dtype=float32_ref>]"
      ]
     },
     "execution_count": 22,
     "metadata": {},
     "output_type": "execute_result"
    }
   ],
   "source": [
    "model.weights"
   ]
  },
  {
   "cell_type": "code",
   "execution_count": 8,
   "metadata": {},
   "outputs": [],
   "source": [
    "weights_name = [i for i in os.listdir('./models') if i.startswith('original')][0]\n",
    "model.load_weights('./models/'+weights_name,by_name=True)"
   ]
  },
  {
   "cell_type": "code",
   "execution_count": 9,
   "metadata": {},
   "outputs": [],
   "source": [
    "def load_data():\n",
    "    x_train, y_train, x_val, y_val = np.load('data/x_train.npy'),np.load('data/y_train.npy'),np.load('data/x_val.npy'),np.load('data/y_val.npy')\n",
    "    with open('data/id_to_word.pkl','rb') as f:\n",
    "        id_to_word = pickle.load(f)\n",
    "    return x_train, y_train, x_val, y_val, id_to_word"
   ]
  },
  {
   "cell_type": "code",
   "execution_count": 10,
   "metadata": {},
   "outputs": [],
   "source": [
    "x_train, y_train, x_val, y_val, id_to_word = load_data()"
   ]
  },
  {
   "cell_type": "code",
   "execution_count": 19,
   "metadata": {},
   "outputs": [],
   "source": [
    "def explanation_of_review(id):\n",
    "    print(''.join([id_to_word[word]+ ' ' for word in x_val[id,:] if word != 0]))\n",
    "    print(' ')\n",
    "    \n",
    "    descriptions = [id_to_word[word]+ ' ' for word in x_val_selected[id,:] if word != 0]\n",
    "    \n",
    "    score = []\n",
    "    for ind in np.argsort(scores[id, :])[::-1]:\n",
    "        score.append(ind)\n",
    "    \n",
    "    new_desc = [line for (time,line) in sorted(zip(score, descriptions))]\n",
    "    \n",
    "    print(''.join(new_desc))\n",
    "    \n",
    "    pred_val = model.predict(x_val_selected[id:id+1,:], verbose=0, batch_size=1)\n",
    "    print(' ')\n",
    "    print('Probability Positive: {}'.format(pred_val[0,1]))\n",
    "    print('Probability Negative: {}'.format(pred_val[0,0]))"
   ]
  },
  {
   "cell_type": "code",
   "execution_count": 20,
   "metadata": {},
   "outputs": [
    {
     "name": "stdout",
     "output_type": "stream",
     "text": [
      "<START> <UNK> is sent in his cage on a train by his old lady owner in the same <UNK> car also in a cage is <UNK> br br in no time <UNK> has <UNK> <UNK> but a comes back and <UNK> the <UNK> as he calls him back in his cage he puts <UNK> in a <UNK> place up high and tells the cat now remember no tricks <UNK> puts his <UNK> on and looks innocent yeah right br br i found the funniest stuff however didn't involve <UNK> versus <UNK> but the dog that is in another cage next to <UNK> the cat gets <UNK> with him and pays a big price in an extremely funny manner <UNK> just doesn't learn but that's one reason we love him i know a number of imdb reviewers don't like <UNK> but i like both main characters they both crack me up br br also the train and the passing scenery is beautifully <UNK> in here really nice visuals \n",
      " \n",
      "funniest beautifully train funny extremely comes both the him train \n",
      " \n",
      "Probability Positive: 0.9971569776535034\n",
      "Probability Negative: 0.0028430449310690165\n"
     ]
    }
   ],
   "source": [
    "explanation_of_review(8040)"
   ]
  },
  {
   "cell_type": "code",
   "execution_count": 13,
   "metadata": {},
   "outputs": [],
   "source": [
    "scores = np.load('data/scores.npy')\n",
    "scores2 = np.load('data/scores2.npy')"
   ]
  },
  {
   "cell_type": "code",
   "execution_count": 4,
   "metadata": {},
   "outputs": [],
   "source": [
    "thingys = np.zeros((len(scores),15))\n",
    "\n",
    "for instance in range(len(scores)):\n",
    "    s1 = np.argsort(scores[instance, :])[::-1]\n",
    "    s2 = np.argsort(scores2[instance, :])[::-1]\n",
    "    \n",
    "    a1 = np.array(range(1,len(s1)+1))\n",
    "    a2 = np.zeros(len(s1))\n",
    "    for index in a1:\n",
    "        for idx, score in enumerate(s2):\n",
    "            if score == s1[index-1]:\n",
    "                a2[idx] = index\n",
    "    \n",
    "    for r in range(15):\n",
    "         thingys[instance, r] = scipy.stats.spearmanr(a1[:r+1],a2[:r+1])[0]"
   ]
  },
  {
   "cell_type": "code",
   "execution_count": 5,
   "metadata": {},
   "outputs": [],
   "source": [
    "means = np.mean(np.abs(thingys), axis=0)[1:]"
   ]
  },
  {
   "cell_type": "code",
   "execution_count": 9,
   "metadata": {},
   "outputs": [],
   "source": [
    "thingys2 = np.zeros((len(scores),15))\n",
    "\n",
    "for instance in range(len(scores)):\n",
    "    s12 = np.argsort(scores[instance, :])\n",
    "    s22 = np.argsort(scores2[instance, :])\n",
    "    \n",
    "    a12 = np.array(range(1,len(s12)+1))\n",
    "    a22 = np.zeros(len(s12))\n",
    "    for index in a12:\n",
    "        for idx, score in enumerate(s22):\n",
    "            if score == s12[index-1]:\n",
    "                a22[idx] = index\n",
    "    \n",
    "    for r in range(15):\n",
    "         thingys[instance, r] = scipy.stats.spearmanr(a12[:r+1],a22[:r+1])[0]"
   ]
  },
  {
   "cell_type": "code",
   "execution_count": 10,
   "metadata": {},
   "outputs": [],
   "source": [
    "means2 = np.mean(np.abs(thingys2), axis=0)[1:]"
   ]
  },
  {
   "cell_type": "code",
   "execution_count": 7,
   "metadata": {},
   "outputs": [
    {
     "name": "stdout",
     "output_type": "stream",
     "text": [
      "Populating the interactive namespace from numpy and matplotlib\n"
     ]
    },
    {
     "name": "stderr",
     "output_type": "stream",
     "text": [
      "/Users/matt_rounds/miniconda2/envs/XA3/lib/python3.6/site-packages/IPython/core/magics/pylab.py:160: UserWarning: pylab import has clobbered these variables: ['axes']\n",
      "`%matplotlib` prevents importing * from pylab and numpy\n",
      "  \"\\n`%matplotlib` prevents importing * from pylab and numpy\"\n"
     ]
    }
   ],
   "source": [
    "% pylab inline"
   ]
  },
  {
   "cell_type": "code",
   "execution_count": 12,
   "metadata": {},
   "outputs": [
    {
     "data": {
      "image/png": "[encoded data removed]",
      "text/plain": [
       "<Figure size 432x288 with 1 Axes>"
      ]
     },
     "metadata": {},
     "output_type": "display_data"
    }
   ],
   "source": [
    "import matplotlib.pyplot as plt\n",
    "\n",
    "x = range(2,16)\n",
    "\n",
    "plt.plot(x,means)\n",
    "axes = plt.gca()\n",
    "axes.set_ylim([0.0,1.0])\n",
    "\n",
    "plt.show()"
   ]
  },
  {
   "cell_type": "code",
   "execution_count": 28,
   "metadata": {},
   "outputs": [
    {
     "data": {
      "image/png": "[encoded data removed]",
      "text/plain": [
       "<Figure size 432x288 with 1 Axes>"
      ]
     },
     "metadata": {},
     "output_type": "display_data"
    }
   ],
   "source": [
    "plt.plot(x,means2)\n",
    "plt.show()"
   ]
  },
  {
   "cell_type": "code",
   "execution_count": null,
   "metadata": {},
   "outputs": [],
   "source": [
    "A = "
   ]
  }
 ],
 "metadata": {
  "kernelspec": {
   "display_name": "Python 3",
   "language": "python",
   "name": "python3"
  },
  "language_info": {
   "codemirror_mode": {
    "name": "ipython",
    "version": 3
   },
   "file_extension": ".py",
   "mimetype": "text/x-python",
   "name": "python",
   "nbconvert_exporter": "python",
   "pygments_lexer": "ipython3",
   "version": "3.6.6"
  }
 },
 "nbformat": 4,
 "nbformat_minor": 2
}
