{
 "cells": [
  {
   "cell_type": "code",
   "execution_count": 2,
   "metadata": {},
   "outputs": [
    {
     "name": "stderr",
     "output_type": "stream",
     "text": [
      "Using TensorFlow backend.\n",
      "/Users/matt_rounds/miniconda2/envs/XA3/lib/python3.6/importlib/_bootstrap.py:219: RuntimeWarning: numpy.dtype size changed, may indicate binary incompatibility. Expected 96, got 88\n",
      "  return f(*args, **kwds)\n",
      "/Users/matt_rounds/miniconda2/envs/XA3/lib/python3.6/importlib/_bootstrap.py:219: RuntimeWarning: numpy.dtype size changed, may indicate binary incompatibility. Expected 96, got 88\n",
      "  return f(*args, **kwds)\n"
     ]
    }
   ],
   "source": [
    "import sys\n",
    "import os\n",
    "import urllib.request, urllib.error, urllib.parse  \n",
    "import tarfile\n",
    "import zipfile \n",
    "import numpy as np\n",
    "try:\n",
    "\timport cPickle as pickle\n",
    "except:\n",
    "\timport pickle\n",
    "import os  \n",
    "from explain import create_original_model"
   ]
  },
  {
   "cell_type": "code",
   "execution_count": 3,
   "metadata": {},
   "outputs": [],
   "source": [
    "import scipy.stats"
   ]
  },
  {
   "cell_type": "code",
   "execution_count": null,
   "metadata": {},
   "outputs": [],
   "source": [
    "scores = np.load('data/x_val-L2Xscores.npy')\n",
    "scores2 = np.load('data/x_val-L2Xscores2.npy')"
   ]
  },
  {
   "cell_type": "code",
   "execution_count": null,
   "metadata": {},
   "outputs": [],
   "source": [
    "thingys = np.zeros((len(scores),15))\n",
    "\n",
    "for instance in range(len(scores)):\n",
    "    s1 = np.argsort(scores[instance, :])[::-1]\n",
    "    s2 = np.argsort(scores2[instance, :])[::-1]\n",
    "    \n",
    "    a1 = np.array(range(1,len(s1)+1))\n",
    "    a2 = np.zeros(len(s1))\n",
    "    for index in a1:\n",
    "        for idx, score in enumerate(s2):\n",
    "            if score == s1[index-1]:\n",
    "                a2[idx] = index\n",
    "    \n",
    "    for r in range(15):\n",
    "         thingys[instance, r] = scipy.stats.spearmanr(a1[:r+1],a2[:r+1])[0]"
   ]
  },
  {
   "cell_type": "code",
   "execution_count": null,
   "metadata": {},
   "outputs": [],
   "source": [
    "means = np.mean(np.abs(thingys), axis=0)[1:]"
   ]
  },
  {
   "cell_type": "code",
   "execution_count": null,
   "metadata": {},
   "outputs": [],
   "source": [
    "import matplotlib.pyplot as plt\n",
    "\n",
    "x = range(2,16)\n",
    "\n",
    "plt.plot(x,means)\n",
    "plt.plot(x, np.mean(thingys, axis=0)[1:])\n",
    "axes = plt.gca()\n",
    "axes.set_ylim([0.0,1.0])\n",
    "\n",
    "plt.show()"
   ]
  }
 ],
 "metadata": {
  "kernelspec": {
   "display_name": "Python 3",
   "language": "python",
   "name": "python3"
  },
  "language_info": {
   "codemirror_mode": {
    "name": "ipython",
    "version": 3
   },
   "file_extension": ".py",
   "mimetype": "text/x-python",
   "name": "python",
   "nbconvert_exporter": "python",
   "pygments_lexer": "ipython3",
   "version": "3.6.6"
  }
 },
 "nbformat": 4,
 "nbformat_minor": 2
}
