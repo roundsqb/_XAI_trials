{
 "cells": [
  {
   "cell_type": "code",
   "execution_count": null,
   "metadata": {},
   "outputs": [],
   "source": [
    "# Config\n",
    "import os\n",
    "prefix = '../../'"
   ]
  },
  {
   "cell_type": "code",
   "execution_count": null,
   "metadata": {},
   "outputs": [
    {
     "name": "stderr",
     "output_type": "stream",
     "text": [
      "/Applications/anaconda3/lib/python3.6/site-packages/h5py/__init__.py:34: FutureWarning: Conversion of the second argument of issubdtype from `float` to `np.floating` is deprecated. In future, it will be treated as `np.float64 == np.dtype(float).type`.\n",
      "  from ._conv import register_converters as _register_converters\n",
      "Using TensorFlow backend.\n"
     ]
    }
   ],
   "source": [
    "# Imports\n",
    "import matplotlib.pyplot as plt\n",
    "from xai.performance_benchmarking.benchmarking_pipelines import robustness_benchmarking_pipeline\n",
    "from xai.viz.util_viz import plot_robustness_comparisons"
   ]
  },
  {
   "cell_type": "code",
   "execution_count": 7,
   "metadata": {},
   "outputs": [
    {
     "name": "stdout",
     "output_type": "stream",
     "text": [
      "Identified 0 out of 12 features as categorical.\n",
      "\n",
      "Input dataset shape: \n",
      "x (26048, 12), \ty 26048\n",
      "Model type: <class 'sklearn.ensemble.forest.RandomForestClassifier'>\n",
      "Model test performance: \tAUC = 0.752, \tGini = 0.504\n",
      "Process took 0.83 s.\n",
      "Initializing tree SHAP explainer wrapper\n",
      "Missed points: 0/100\n",
      "Time elapsed for shap with Gradient Boosted Tree opt 1.1e+02 s\n",
      "Median Lipschitz estimate for shap = 0.0768\n",
      "Identified 0 out of 12 features as categorical.\n",
      "\n",
      "Input dataset shape: \n",
      "x (26048, 12), \ty 26048\n",
      "Model type: <class 'sklearn.ensemble.forest.RandomForestClassifier'>\n",
      "Model test performance: \tAUC = 0.752, \tGini = 0.504\n",
      "Process took 0.88 s.\n",
      "Initializing tabular LIME explainer wrapper\n",
      "Missed points: 0/100\n",
      "Time elapsed for lime with Gradient Boosted Tree opt 4.2e+01 s\n",
      "Median Lipschitz estimate for lime = 0.00581\n",
      "Identified 0 out of 12 features as categorical.\n",
      "\n",
      "Input dataset shape: \n",
      "x (26048, 12), \ty 26048\n",
      "Model type: <class 'sklearn.ensemble.forest.RandomForestClassifier'>\n",
      "Model test performance: \tAUC = 0.752, \tGini = 0.504\n",
      "Process took 0.88 s.\n",
      "Initializing tree SHAP explainer wrapper\n",
      "Missed points: 0/100\n",
      "Time elapsed for shap with Gradient Boosted Tree opt 1.8e+02 s\n",
      "Median Lipschitz estimate for shap = 0.0567\n",
      "Identified 0 out of 12 features as categorical.\n",
      "\n",
      "Input dataset shape: \n",
      "x (26048, 12), \ty 26048\n",
      "Model type: <class 'sklearn.ensemble.forest.RandomForestClassifier'>\n",
      "Model test performance: \tAUC = 0.752, \tGini = 0.504\n",
      "Process took 0.88 s.\n",
      "Initializing tabular LIME explainer wrapper\n",
      "Missed points: 0/100\n",
      "Time elapsed for lime with Gradient Boosted Tree opt 2.3e+03 s\n",
      "Median Lipschitz estimate for lime = 0.00577\n"
     ]
    }
   ],
   "source": [
    "data = os.path.join(prefix, 'datasets', 'census_dataset.csv')\n",
    "lips1, tdelta1 = robustness_benchmarking_pipeline(model_type='rf', explainer_type='shap', num_samples=100,\n",
    "                                                  lipshitz_optimiser='gbrt', lipshitz_bound_type='box', n_jobs=1,\n",
    "                                                  data_file_name=data, target_name='y', random_seed=42)\n",
    "\n",
    "lips2, tdelta2 = robustness_benchmarking_pipeline(model_type='rf', explainer_type='lime', num_samples=100,\n",
    "                                                  lipshitz_optimiser='gbrt', lipshitz_bound_type='box', n_jobs=1,\n",
    "                                                  data_file_name=data, target_name='y', random_seed=42)\n",
    "\n",
    "lips12, tdelta12 = robustness_benchmarking_pipeline(model_type='rf', explainer_type='shap', num_samples=100,\n",
    "                                                    lipshitz_optimiser='gp', lipshitz_bound_type='box', n_jobs=1,\n",
    "                                                    data_file_name=data, target_name='y', random_seed=42)\n",
    "\n",
    "lips22, tdelta22 = robustness_benchmarking_pipeline(model_type='rf', explainer_type='lime', num_samples=100,\n",
    "                                                    lipshitz_optimiser='gp', lipshitz_bound_type='box', n_jobs=1,\n",
    "                                                    data_file_name=data, target_name='y', random_seed=42)\n"
   ]
  },
  {
   "cell_type": "code",
   "execution_count": 11,
   "metadata": {},
   "outputs": [
    {
     "data": {
      "image/png": "[encoded data removed]",
      "text/plain": [
       "<matplotlib.figure.Figure at 0x1c2a117ba8>"
      ]
     },
     "execution_count": 11,
     "metadata": {},
     "output_type": "execute_result"
    }
   ],
   "source": [
    "fig = plot_robustness_comparisons([lips1, lips12, lips2, lips22], dataset_name ='Census',\n",
    "                                  model_names=['SHAP gbrt', 'SHAP gp', 'LIME gbrt', 'LIME gp'])\n",
    "fig.savefig(fname='Robustness comparison.png')\n",
    "fig"
   ]
  },
  {
   "cell_type": "code",
   "execution_count": 12,
   "metadata": {},
   "outputs": [],
   "source": [
    ""
   ]
  },
  {
   "cell_type": "markdown",
   "metadata": {},
   "source": [
    "### Robustness test on regression (boston) dataset"
   ]
  },
  {
   "cell_type": "code",
   "execution_count": null,
   "metadata": {
    "collapsed": true
   },
   "outputs": [],
   "source": [
    "data = os.path.join(prefix, 'datasets', 'boston_dataset.csv')\n",
    "\n",
    "lips1, tdelta1 = robustness_benchmarking_pipeline(model_type='rf', explainer_type='shap', num_samples=100,\n",
    "                                                  lipshitz_optimiser='gbrt', lipshitz_bound_type='box', n_jobs=1,\n",
    "                                                  data_file_name=data, target_name='y', random_seed=42)\n",
    "\n",
    "lips2, tdelta2 = robustness_benchmarking_pipeline(model_type='rf', explainer_type='lime', num_samples=100,\n",
    "                                                  lipshitz_optimiser='gbrt', lipshitz_bound_type='box', n_jobs=1,\n",
    "                                                  data_file_name=data, target_name='y', random_seed=42)\n",
    "\n",
    "lips12, tdelta12 = robustness_benchmarking_pipeline(model_type='rf', explainer_type='shap', num_samples=100,\n",
    "                                                    lipshitz_optimiser='gp', lipshitz_bound_type='box', n_jobs=1,\n",
    "                                                    data_file_name=data, target_name='y', random_seed=42)\n",
    "\n",
    "lips22, tdelta22 = robustness_benchmarking_pipeline(model_type='rf', explainer_type='lime', num_samples=100,\n",
    "                                                    lipshitz_optimiser='gp', lipshitz_bound_type='box', n_jobs=1,\n",
    "                                                    data_file_name=data, target_name='y', random_seed=42)\n",
    "\n",
    "fig = plot_robustness_comparisons([lips1, lips12, lips2, lips22], dataset_name ='Boston',\n",
    "                                  model_names=['SHAP gbrt', 'SHAP gp', 'LIME gbrt', 'LIME gp'])\n",
    "fig.savefig(fname='Robustness_comparison_on_Boston.png')\n",
    "print([tdelta1, tdelta12, tdelta2, tdelta22])\n",
    "fig"
   ]
  }
 ],
 "metadata": {
  "kernelspec": {
   "display_name": "Python 3",
   "language": "python",
   "name": "python3"
  },
  "language_info": {
   "codemirror_mode": {
    "name": "ipython",
    "version": 3
   },
   "file_extension": ".py",
   "mimetype": "text/x-python",
   "name": "python",
   "nbconvert_exporter": "python",
   "pygments_lexer": "ipython3",
   "version": "3.6.3"
  }
 },
 "nbformat": 4,
 "nbformat_minor": 2
}
