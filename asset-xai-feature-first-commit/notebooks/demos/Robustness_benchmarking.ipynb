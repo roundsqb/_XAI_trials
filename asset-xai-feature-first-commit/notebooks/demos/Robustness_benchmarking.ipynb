{
 "cells": [
  {
   "cell_type": "code",
   "execution_count": 17,
   "metadata": {
    "collapsed": true
   },
   "outputs": [],
   "source": [
    "# Config\n",
    "import os\n",
    "prefix = '../../'"
   ]
  },
  {
   "cell_type": "code",
   "execution_count": 18,
   "metadata": {},
   "outputs": [],
   "source": [
    "# Imports\n",
    "import matplotlib.pyplot as plt\n",
    "from xai.utils.data_loading_utils import load_data_from_csv\n",
    "from xai.utils.model_utils import generate_trained_model\n",
    "from xai.performance_benchmarking.benchmarking_pipelines import robustness_benchmarking_pipeline\n",
    "from xai.viz.util_viz import plot_robustness_comparisons"
   ]
  },
  {
   "cell_type": "markdown",
   "metadata": {},
   "source": [
    "### Robustness test on regression (boston) dataset"
   ]
  },
  {
   "cell_type": "code",
   "execution_count": 19,
   "metadata": {},
   "outputs": [
    {
     "name": "stdout",
     "output_type": "stream",
     "text": [
      "Identified 0 out of 13 features as categorical.\n",
      "\n",
      "Input dataset shape: \n",
      "x (404, 13), \ty 404\n",
      "Model type: <class 'sklearn.ensemble.forest.RandomForestRegressor'>\n",
      "Model test performance: \tMSE = 7.721, \tR^2 = 0.895\n",
      "Process took 0.19 s.\n"
     ]
    }
   ],
   "source": [
    "data = os.path.join(prefix, 'datasets', 'boston_dataset.csv')\n",
    "x, x_test, y, y_test, categorical_idx = load_data_from_csv(file_name=data, target_name='y',\n",
    "                                                               max_levels=100, test_size=0.2, skiprows=False,\n",
    "                                                               multiples_of_rows_to_skip=100)\n",
    "model, is_classification = generate_trained_model('rf', x, x_test, y, y_test)\n"
   ]
  },
  {
   "cell_type": "code",
   "execution_count": 20,
   "metadata": {},
   "outputs": [
    {
     "name": "stdout",
     "output_type": "stream",
     "text": [
      "Initializing tree SHAP explainer wrapper\n",
      "Missed points: 0/100\n",
      "Time elapsed for shap with Gradient Boosted Tree opt 1.3e+02 s\n",
      "Median Lipschitz estimate for shap = 4.26\n",
      "Initializing tabular LIME explainer wrapper\n",
      "Missed points: 0/100\n",
      "Time elapsed for lime with Gradient Boosted Tree opt 4.1e+01 s\n",
      "Median Lipschitz estimate for lime = 0.704\n",
      "Initializing tree SHAP explainer wrapper\n",
      "Missed points: 0/100\n",
      "Time elapsed for shap with Gradient Boosted Tree opt 2.2e+02 s\n",
      "Median Lipschitz estimate for shap = 4.32\n",
      "Initializing tabular LIME explainer wrapper\n",
      "Missed points: 0/100\n",
      "Time elapsed for lime with Gradient Boosted Tree opt 1.4e+02 s\n",
      "Median Lipschitz estimate for lime = 0.72\n"
     ]
    }
   ],
   "source": [
    "lips1, tdelta1 = robustness_benchmarking_pipeline(model, x, is_classification=False,explainer_type='shap', \n",
    "                                                  num_samples=100, random_seed=42,\n",
    "                                                  lipshitz_optimiser='gbrt', lipshitz_bound_type='box', n_jobs=1)\n",
    "\n",
    "lips2, tdelta2 = robustness_benchmarking_pipeline(model, x, is_classification=False,explainer_type='lime', \n",
    "                                                  num_samples=100, random_seed=42,\n",
    "                                                  lipshitz_optimiser='gbrt', lipshitz_bound_type='box', n_jobs=1)\n",
    "\n",
    "lips12, tdelta12 = robustness_benchmarking_pipeline(model, x, is_classification=False,explainer_type='shap', \n",
    "                                                    num_samples=100, random_seed=42,\n",
    "                                                    lipshitz_optimiser='gp', lipshitz_bound_type='box', n_jobs=1)\n",
    "\n",
    "lips22, tdelta22 = robustness_benchmarking_pipeline(model, x, is_classification=False,explainer_type='lime', \n",
    "                                                    num_samples=100, random_seed=42,\n",
    "                                                    lipshitz_optimiser='gp', lipshitz_bound_type='box', n_jobs=1)"
   ]
  },
  {
   "cell_type": "code",
   "execution_count": 25,
   "metadata": {},
   "outputs": [
    {
     "name": "stdout",
     "output_type": "stream",
     "text": [
      "[130.4896960258484, 221.0157949924469, 40.611193895339966, 136.9921989440918]\n"
     ]
    },
    {
     "data": {
      "image/png": "[encoded data removed]",
      "text/plain": [
       "<matplotlib.figure.Figure at 0x1c27bda2b0>"
      ]
     },
     "execution_count": 25,
     "metadata": {},
     "output_type": "execute_result"
    }
   ],
   "source": [
    "fig = plot_robustness_comparisons([lips1, lips12, lips2, lips22], dataset_name ='Boston',\n",
    "                                  model_names=['SHAP gbrt', 'SHAP gp', 'LIME gbrt', 'LIME gp'])\n",
    "print([tdelta1, tdelta12, tdelta2, tdelta22])\n",
    "fig"
   ]
  },
  {
   "cell_type": "markdown",
   "metadata": {},
   "source": [
    "### Robustness test on classification (census) dataset"
   ]
  },
  {
   "cell_type": "code",
   "execution_count": 26,
   "metadata": {},
   "outputs": [
    {
     "name": "stdout",
     "output_type": "stream",
     "text": [
      "Identified 0 out of 12 features as categorical.\n",
      "\n",
      "Input dataset shape: \n",
      "x (26048, 12), \ty 26048\n",
      "Model type: <class 'sklearn.ensemble.forest.RandomForestClassifier'>\n",
      "Model test performance: \tAUC = 0.752, \tGini = 0.504\n",
      "Process took 1.09 s.\n"
     ]
    }
   ],
   "source": [
    "data = os.path.join(prefix, 'datasets', 'census_dataset.csv')\n",
    "x, x_test, y, y_test, categorical_idx = load_data_from_csv(file_name=data, target_name='y',\n",
    "                                                               max_levels=100, test_size=0.2, skiprows=False,\n",
    "                                                               multiples_of_rows_to_skip=100)\n",
    "model, is_classification = generate_trained_model('rf', x, x_test, y, y_test)"
   ]
  },
  {
   "cell_type": "code",
   "execution_count": 27,
   "metadata": {},
   "outputs": [
    {
     "name": "stdout",
     "output_type": "stream",
     "text": [
      "Initializing tree SHAP explainer wrapper\n",
      "Missed points: 0/100\n",
      "Time elapsed for shap with Gradient Boosted Tree opt 1.6e+02 s\n",
      "Median Lipschitz estimate for shap = 0.103\n",
      "Initializing tabular LIME explainer wrapper\n",
      "Missed points: 0/100\n",
      "Time elapsed for lime with Gradient Boosted Tree opt 5.8e+01 s\n",
      "Median Lipschitz estimate for lime = 0.00661\n",
      "Initializing tree SHAP explainer wrapper\n",
      "Missed points: 0/100\n",
      "Time elapsed for shap with Gradient Boosted Tree opt 2.8e+02 s\n",
      "Median Lipschitz estimate for shap = 0.101\n",
      "Initializing tabular LIME explainer wrapper\n",
      "Missed points: 0/100\n",
      "Time elapsed for lime with Gradient Boosted Tree opt 1.5e+02 s\n",
      "Median Lipschitz estimate for lime = 0.00629\n"
     ]
    }
   ],
   "source": [
    "lips1, tdelta1 = robustness_benchmarking_pipeline(model, x, is_classification=True,explainer_type='shap', \n",
    "                                                  num_samples=100, random_seed=42,\n",
    "                                                  lipshitz_optimiser='gbrt', lipshitz_bound_type='box', n_jobs=1)\n",
    "\n",
    "lips2, tdelta2 = robustness_benchmarking_pipeline(model, x, is_classification=True,explainer_type='lime', \n",
    "                                                  num_samples=100, random_seed=42,\n",
    "                                                  lipshitz_optimiser='gbrt', lipshitz_bound_type='box', n_jobs=1)\n",
    "\n",
    "lips12, tdelta12 = robustness_benchmarking_pipeline(model, x, is_classification=True,explainer_type='shap', \n",
    "                                                    num_samples=100, random_seed=42,\n",
    "                                                    lipshitz_optimiser='gp', lipshitz_bound_type='box', n_jobs=1)\n",
    "\n",
    "lips22, tdelta22 = robustness_benchmarking_pipeline(model, x, is_classification=True,explainer_type='lime', \n",
    "                                                    num_samples=100, random_seed=42,\n",
    "                                                    lipshitz_optimiser='gp', lipshitz_bound_type='box', n_jobs=1)"
   ]
  },
  {
   "cell_type": "code",
   "execution_count": 28,
   "metadata": {},
   "outputs": [
    {
     "data": {
      "image/png": "[encoded data removed]",
      "text/plain": [
       "<matplotlib.figure.Figure at 0x110c32eb8>"
      ]
     },
     "execution_count": 28,
     "metadata": {},
     "output_type": "execute_result"
    }
   ],
   "source": [
    "fig = plot_robustness_comparisons([lips1, lips12, lips2, lips22], dataset_name ='Census',\n",
    "                                  model_names=['SHAP gbrt', 'SHAP gp', 'LIME gbrt', 'LIME gp'])\n",
    "fig"
   ]
  },
  {
   "cell_type": "code",
   "execution_count": null,
   "metadata": {
    "collapsed": true
   },
   "outputs": [],
   "source": []
  },
  {
   "cell_type": "code",
   "execution_count": null,
   "metadata": {
    "collapsed": true
   },
   "outputs": [],
   "source": []
  }
 ],
 "metadata": {
  "kernelspec": {
   "display_name": "Python 3",
   "language": "python",
   "name": "python3"
  },
  "language_info": {
   "codemirror_mode": {
    "name": "ipython",
    "version": 3
   },
   "file_extension": ".py",
   "mimetype": "text/x-python",
   "name": "python",
   "nbconvert_exporter": "python",
   "pygments_lexer": "ipython3",
   "version": "3.6.3"
  }
 },
 "nbformat": 4,
 "nbformat_minor": 2
}
